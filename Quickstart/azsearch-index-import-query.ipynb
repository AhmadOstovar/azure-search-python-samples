{
 "cells": [
  {
   "cell_type": "code",
   "execution_count": null,
   "metadata": {},
   "outputs": [],
   "source": [
    "import json\n",
    "import requests\n",
    "from pprint import pprint"
   ]
  },
  {
   "cell_type": "code",
   "execution_count": null,
   "metadata": {},
   "outputs": [],
   "source": [
    "endpoint = 'https://<YOUR-SEARCH-SERVICE-NAME>.search.windows.net/'\n",
    "api_version = '?api-version=2019-05-06'\n",
    "headers = {'Content-Type': 'application/json',\n",
    "        'api-key': '<YOUR-ADMIN-API-KEY>' }"
   ]
  },
  {
   "cell_type": "code",
   "execution_count": null,
   "metadata": {},
   "outputs": [],
   "source": [
    "url = endpoint + \"indexes\" + api_version + \"&$select=name\"\n",
    "response  = requests.get(url, headers=headers)\n",
    "index_list = response.json()\n",
    "pprint(index_list)"
   ]
  },
  {
   "cell_type": "code",
   "execution_count": null,
   "metadata": {},
   "outputs": [],
   "source": [
    "index_schema = {\n",
    "   \"name\": \"hotels-quickstart\",  \n",
    "   \"fields\": [\n",
    "     {\"name\": \"HotelId\", \"type\": \"Edm.String\", \"key\": \"true\", \"filterable\": \"true\"},\n",
    "     {\"name\": \"HotelName\", \"type\": \"Edm.String\", \"searchable\": \"true\", \"filterable\": \"false\", \"sortable\": \"true\", \"facetable\": \"false\"},\n",
    "     {\"name\": \"Description\", \"type\": \"Edm.String\", \"searchable\": \"true\", \"filterable\": \"false\", \"sortable\": \"false\", \"facetable\": \"false\", \"analyzer\": \"en.lucene\"},\n",
    "     {\"name\": \"Description_fr\", \"type\": \"Edm.String\", \"searchable\": \"true\", \"filterable\": \"false\", \"sortable\": \"false\", \"facetable\": \"false\", \"analyzer\": \"fr.lucene\"},\n",
    "     {\"name\": \"Category\", \"type\": \"Edm.String\", \"searchable\": \"true\", \"filterable\": \"true\", \"sortable\": \"true\", \"facetable\": \"true\"},\n",
    "     {\"name\": \"Tags\", \"type\": \"Collection(Edm.String)\", \"searchable\": \"true\", \"filterable\": \"true\", \"sortable\": \"false\", \"facetable\": \"true\"},\n",
    "     {\"name\": \"ParkingIncluded\", \"type\": \"Edm.Boolean\", \"filterable\": \"true\", \"sortable\": \"true\", \"facetable\": \"true\"},\n",
    "     {\"name\": \"LastRenovationDate\", \"type\": \"Edm.DateTimeOffset\", \"filterable\": \"true\", \"sortable\": \"true\", \"facetable\": \"true\"},\n",
    "     {\"name\": \"Rating\", \"type\": \"Edm.Double\", \"filterable\": \"true\", \"sortable\": \"true\", \"facetable\": \"true\"},\n",
    "     {\"name\": \"Address\", \"type\": \"Edm.ComplexType\", \n",
    "     \"fields\": [\n",
    "     {\"name\": \"StreetAddress\", \"type\": \"Edm.String\", \"filterable\": \"false\", \"sortable\": \"false\", \"facetable\": \"false\", \"searchable\": \"true\"},\n",
    "     {\"name\": \"City\", \"type\": \"Edm.String\", \"searchable\": \"true\", \"filterable\": \"true\", \"sortable\": \"true\", \"facetable\": \"true\"},\n",
    "     {\"name\": \"StateProvince\", \"type\": \"Edm.String\", \"searchable\": \"true\", \"filterable\": \"true\", \"sortable\": \"true\", \"facetable\": \"true\"},\n",
    "     {\"name\": \"PostalCode\", \"type\": \"Edm.String\", \"searchable\": \"true\", \"filterable\": \"true\", \"sortable\": \"true\", \"facetable\": \"true\"},\n",
    "     {\"name\": \"Country\", \"type\": \"Edm.String\", \"searchable\": \"true\", \"filterable\": \"true\", \"sortable\": \"true\", \"facetable\": \"true\"}\n",
    "    ]\n",
    "   }\n",
    "  ]\n",
    "}"
   ]
  },
  {
   "cell_type": "code",
   "execution_count": null,
   "metadata": {},
   "outputs": [],
   "source": [
    "url = endpoint + \"indexes\" + api_version\n",
    "response  = requests.post(url, headers=headers, json=index_schema)\n",
    "index = response.json()\n",
    "pprint(index)"
   ]
  },
  {
   "cell_type": "code",
   "execution_count": null,
   "metadata": {},
   "outputs": [],
   "source": [
    "documents = {\n",
    "    \"value\": [\n",
    "    {\n",
    "    \"@search.action\": \"upload\",\n",
    "    \"HotelId\": \"1\",\n",
    "    \"HotelName\": \"Secret Point Motel\",\n",
    "    \"Description\": \"The hotel is ideally located on the main commercial artery of the city in the heart of New York. A few minutes away is Time's Square and the historic centre of the city, as well as other places of interest that make New York one of America's most attractive and cosmopolitan cities.\",\n",
    "    \"Description_fr\": \"L'hôtel est idéalement situé sur la principale artère commerciale de la ville en plein cœur de New York. A quelques minutes se trouve la place du temps et le centre historique de la ville, ainsi que d'autres lieux d'intérêt qui font de New York l'une des villes les plus attractives et cosmopolites de l'Amérique.\",\n",
    "    \"Category\": \"Boutique\",\n",
    "    \"Tags\": [ \"pool\", \"air conditioning\", \"concierge\" ],\n",
    "    \"ParkingIncluded\": \"false\",\n",
    "    \"LastRenovationDate\": \"1970-01-18T00:00:00Z\",\n",
    "    \"Rating\": 3.60,\n",
    "    \"Address\": {\n",
    "        \"StreetAddress\": \"677 5th Ave\",\n",
    "        \"City\": \"New York\",\n",
    "        \"StateProvince\": \"NY\",\n",
    "        \"PostalCode\": \"10022\",\n",
    "        \"Country\": \"USA\"\n",
    "        }\n",
    "    },\n",
    "    {\n",
    "    \"@search.action\": \"upload\",\n",
    "    \"HotelId\": \"2\",\n",
    "    \"HotelName\": \"Twin Dome Motel\",\n",
    "    \"Description\": \"The hotel is situated in a  nineteenth century plaza, which has been expanded and renovated to the highest architectural standards to create a modern, functional and first-class hotel in which art and unique historical elements coexist with the most modern comforts.\",\n",
    "    \"Description_fr\": \"L'hôtel est situé dans une place du XIXe siècle, qui a été agrandie et rénovée aux plus hautes normes architecturales pour créer un hôtel moderne, fonctionnel et de première classe dans lequel l'art et les éléments historiques uniques coexistent avec le confort le plus moderne.\",\n",
    "    \"Category\": \"Boutique\",\n",
    "    \"Tags\": [ \"pool\", \"free wifi\", \"concierge\" ],\n",
    "    \"ParkingIncluded\": \"false\",\n",
    "    \"LastRenovationDate\": \"1979-02-18T00:00:00Z\",\n",
    "    \"Rating\": 3.60,\n",
    "    \"Address\": {\n",
    "        \"StreetAddress\": \"140 University Town Center Dr\",\n",
    "        \"City\": \"Sarasota\",\n",
    "        \"StateProvince\": \"FL\",\n",
    "        \"PostalCode\": \"34243\",\n",
    "        \"Country\": \"USA\"\n",
    "        }\n",
    "    },\n",
    "    {\n",
    "    \"@search.action\": \"upload\",\n",
    "    \"HotelId\": \"3\",\n",
    "    \"HotelName\": \"Triple Landscape Hotel\",\n",
    "    \"Description\": \"The Hotel stands out for its gastronomic excellence under the management of William Dough, who advises on and oversees all of the Hotel’s restaurant services.\",\n",
    "    \"Description_fr\": \"L'hôtel est situé dans une place du XIXe siècle, qui a été agrandie et rénovée aux plus hautes normes architecturales pour créer un hôtel moderne, fonctionnel et de première classe dans lequel l'art et les éléments historiques uniques coexistent avec le confort le plus moderne.\",\n",
    "    \"Category\": \"Resort and Spa\",\n",
    "    \"Tags\": [ \"air conditioning\", \"bar\", \"continental breakfast\" ],\n",
    "    \"ParkingIncluded\": \"true\",\n",
    "    \"LastRenovationDate\": \"2015-09-20T00:00:00Z\",\n",
    "    \"Rating\": 4.80,\n",
    "    \"Address\": {\n",
    "        \"StreetAddress\": \"3393 Peachtree Rd\",\n",
    "        \"City\": \"Atlanta\",\n",
    "        \"StateProvince\": \"GA\",\n",
    "        \"PostalCode\": \"30326\",\n",
    "        \"Country\": \"USA\"\n",
    "        }\n",
    "    },\n",
    "    {\n",
    "    \"@search.action\": \"upload\",\n",
    "    \"HotelId\": \"4\",\n",
    "    \"HotelName\": \"Sublime Cliff Hotel\",\n",
    "    \"Description\": \"Sublime Cliff Hotel is located in the heart of the historic center of Sublime in an extremely vibrant and lively area within short walking distance to the sites and landmarks of the city and is surrounded by the extraordinary beauty of churches, buildings, shops and monuments. Sublime Cliff is part of a lovingly restored 1800 palace.\",\n",
    "    \"Description_fr\": \"Le sublime Cliff Hotel est situé au coeur du centre historique de sublime dans un quartier extrêmement animé et vivant, à courte distance de marche des sites et monuments de la ville et est entouré par l'extraordinaire beauté des églises, des bâtiments, des commerces et Monuments. Sublime Cliff fait partie d'un Palace 1800 restauré avec amour.\",\n",
    "    \"Category\": \"Boutique\",\n",
    "    \"Tags\": [ \"concierge\", \"view\", \"24-hour front desk service\" ],\n",
    "    \"ParkingIncluded\": \"true\",\n",
    "    \"LastRenovationDate\": \"1960-02-06T00:00:00Z\",\n",
    "    \"Rating\": 4.60,\n",
    "    \"Address\": {\n",
    "        \"StreetAddress\": \"7400 San Pedro Ave\",\n",
    "        \"City\": \"San Antonio\",\n",
    "        \"StateProvince\": \"TX\",\n",
    "        \"PostalCode\": \"78216\",\n",
    "        \"Country\": \"USA\"\n",
    "        }\n",
    "    }\n",
    "]\n",
    "}"
   ]
  },
  {
   "cell_type": "code",
   "execution_count": null,
   "metadata": {},
   "outputs": [],
   "source": [
    "url = endpoint + \"indexes/hotels-quickstart/docs/index\" + api_version\n",
    "response  = requests.post(url, headers=headers, json=documents)\n",
    "index_content = response.json()\n",
    "pprint(index_content)"
   ]
  },
  {
   "cell_type": "code",
   "execution_count": null,
   "metadata": {},
   "outputs": [],
   "source": [
    "searchstring = '&search=hotels wifi&$count=true&$select=HotelId,HotelName'"
   ]
  },
  {
   "cell_type": "code",
   "execution_count": null,
   "metadata": {},
   "outputs": [],
   "source": [
    "url = endpoint + \"indexes/hotels-quickstart/docs\" + api_version + searchstring\n",
    "response  = requests.get(url, headers=headers, json=searchstring)\n",
    "query = response.json()\n",
    "pprint(query)"
   ]
  },
  {
   "cell_type": "code",
   "execution_count": null,
   "metadata": {},
   "outputs": [],
   "source": [
    "searchstring = '&search=*&$filter=Rating gt 4&$select=HotelId,HotelName,Description'"
   ]
  },
  {
   "cell_type": "code",
   "execution_count": null,
   "metadata": {},
   "outputs": [],
   "source": [
    "searchstring = '&search=boutique&$top=2&$select=HotelId,HotelName,Description'"
   ]
  },
  {
   "cell_type": "code",
   "execution_count": null,
   "metadata": {},
   "outputs": [],
   "source": [
    "searchstring = '&search=pool&$orderby=Address/City&$select=HotelId, HotelName, Address/City, Address/StateProvince'"
   ]
  },
  {
   "cell_type": "code",
   "execution_count": null,
   "metadata": {},
   "outputs": [],
   "source": [
    "url = endpoint + \"indexes/hotels-quickstart\" + api_version\n",
    "response  = requests.delete(url, headers=headers)"
   ]
  },
  {
   "cell_type": "code",
   "execution_count": null,
   "metadata": {},
   "outputs": [],
   "source": [
    "url = endpoint + \"indexes\" + api_version + \"&$select=name\"\n",
    "\n",
    "response  = requests.get(url, headers=headers)\n",
    "index_list = response.json()\n",
    "pprint(index_list)"
   ]
  }
 ],
 "metadata": {
  "kernelspec": {
   "display_name": "Python 3",
   "language": "python",
   "name": "python3"
  },
  "language_info": {
   "codemirror_mode": {
    "name": "ipython",
    "version": 3
   },
   "file_extension": ".py",
   "mimetype": "text/x-python",
   "name": "python",
   "nbconvert_exporter": "python",
   "pygments_lexer": "ipython3",
   "version": "3.7.3"
  }
 },
 "nbformat": 4,
 "nbformat_minor": 2
}
