{
 "cells": [
  {
   "cell_type": "code",
   "execution_count": null,
   "metadata": {},
   "outputs": [],
   "source": [
    "import json\n",
    "import requests\n",
    "from pprint import pprint"
   ]
  },
  {
   "cell_type": "code",
   "execution_count": null,
   "metadata": {},
   "outputs": [],
   "source": [
    "endpoint = 'https://<YOUR-SERVICE-NAME>.search.windows.net/'\n",
    "api_version = '?api-version=2019-05-06'\n",
    "headers = {'Content-Type': 'application/json',\n",
    "        'api-key': '<YOUR-ADMIN-API-KEY>' }"
   ]
  },
  {
   "cell_type": "code",
   "execution_count": null,
   "metadata": {},
   "outputs": [],
   "source": [
    "url = endpoint + \"indexes\" + api_version + \"&$select=name\"\n",
    "response  = requests.get(url, headers=headers)\n",
    "index_list = response.json()\n",
    "pprint(index_list)"
   ]
  },
  {
   "cell_type": "code",
   "execution_count": null,
   "metadata": {},
   "outputs": [],
   "source": [
    "index_schema = {\n",
    "   \"name\": \"hotels-quickstart\",  \n",
    "   \"fields\": [\n",
    "     {\"name\": \"HotelId\", \"type\": \"Edm.String\", \"key\": \"true\", \"filterable\": \"true\"},\n",
    "     {\"name\": \"HotelName\", \"type\": \"Edm.String\", \"searchable\": \"true\", \"filterable\": \"false\", \"sortable\": \"true\", \"facetable\": \"false\"},\n",
    "     {\"name\": \"Description\", \"type\": \"Edm.String\", \"searchable\": \"true\", \"filterable\": \"false\", \"sortable\": \"false\", \"facetable\": \"false\", \"analyzer\": \"en.lucene\"},\n",
    "     {\"name\": \"Description_fr\", \"type\": \"Edm.String\", \"searchable\": \"true\", \"filterable\": \"false\", \"sortable\": \"false\", \"facetable\": \"false\", \"analyzer\": \"fr.lucene\"},\n",
    "     {\"name\": \"Category\", \"type\": \"Edm.String\", \"searchable\": \"true\", \"filterable\": \"true\", \"sortable\": \"true\", \"facetable\": \"true\"},\n",
    "     {\"name\": \"Tags\", \"type\": \"Collection(Edm.String)\", \"searchable\": \"true\", \"filterable\": \"true\", \"sortable\": \"false\", \"facetable\": \"true\"},\n",
    "     {\"name\": \"ParkingIncluded\", \"type\": \"Edm.Boolean\", \"filterable\": \"true\", \"sortable\": \"true\", \"facetable\": \"true\"},\n",
    "     {\"name\": \"LastRenovationDate\", \"type\": \"Edm.DateTimeOffset\", \"filterable\": \"true\", \"sortable\": \"true\", \"facetable\": \"true\"},\n",
    "     {\"name\": \"Rating\", \"type\": \"Edm.Double\", \"filterable\": \"true\", \"sortable\": \"true\", \"facetable\": \"true\"},\n",
    "     {\"name\": \"Address\", \"type\": \"Edm.ComplexType\", \n",
    "     \"fields\": [\n",
    "     {\"name\": \"StreetAddress\", \"type\": \"Edm.String\", \"filterable\": \"false\", \"sortable\": \"false\", \"facetable\": \"false\", \"searchable\": \"true\"},\n",
    "     {\"name\": \"City\", \"type\": \"Edm.String\", \"searchable\": \"true\", \"filterable\": \"true\", \"sortable\": \"true\", \"facetable\": \"true\"},\n",
    "     {\"name\": \"StateProvince\", \"type\": \"Edm.String\", \"searchable\": \"true\", \"filterable\": \"true\", \"sortable\": \"true\", \"facetable\": \"true\"},\n",
    "     {\"name\": \"PostalCode\", \"type\": \"Edm.String\", \"searchable\": \"true\", \"filterable\": \"true\", \"sortable\": \"true\", \"facetable\": \"true\"},\n",
    "     {\"name\": \"Country\", \"type\": \"Edm.String\", \"searchable\": \"true\", \"filterable\": \"true\", \"sortable\": \"true\", \"facetable\": \"true\"}\n",
    "    ]\n",
    "   }\n",
    "  ]\n",
    "}"
   ]
  },
  {
   "cell_type": "code",
   "execution_count": null,
   "metadata": {},
   "outputs": [],
   "source": [
    "url = endpoint + \"indexes\" + api_version\n",
    "response  = requests.post(url, headers=headers, json=index_schema)\n",
    "index = response.json()\n",
    "pprint(index)"
   ]
  },
  {
   "cell_type": "code",
   "execution_count": null,
   "metadata": {},
   "outputs": [],
   "source": [
    "url = endpoint + \"indexes/hotels-quickstart/docs/index\" + api_version\n",
    "response  = requests.post(url, headers=headers, json=documents)\n",
    "index_content = response.json()url = endpoint + \"indexes/hotels-quickstart/docs\" + api_version + searchstring\n",
    "response  = requests.get(url, headers=headers, json=searchstring)\n",
    "query = response.json()\n",
    "pprint(query)\n",
    "pprint(index_content)"
   ]
  },
  {
   "cell_type": "code",
   "execution_count": null,
   "metadata": {},
   "outputs": [],
   "source": [
    "searchstring = '&search=hotels wifi&$count=true&$select=HotelId,HotelName'"
   ]
  },
  {
   "cell_type": "code",
   "execution_count": null,
   "metadata": {},
   "outputs": [],
   "source": [
    "url = endpoint + \"indexes/hotels-quickstart/docs\" + api_version + searchstring\n",
    "response  = requests.get(url, headers=headers, json=searchstring)\n",
    "query = response.json()\n",
    "pprint(query)"
   ]
  },
  {
   "cell_type": "code",
   "execution_count": null,
   "metadata": {},
   "outputs": [],
   "source": [
    "searchstring = '&search=*&$filter=Rating gt 4&$select=HotelId,HotelName,Description'"
   ]
  },
  {
   "cell_type": "code",
   "execution_count": null,
   "metadata": {},
   "outputs": [],
   "source": [
    "searchstring = '&search=boutique&$top=2&$select=HotelId,HotelName,Description'"
   ]
  },
  {
   "cell_type": "code",
   "execution_count": null,
   "metadata": {},
   "outputs": [],
   "source": [
    "searchstring = '&search=pool&$orderby=Address/City&$select=HotelId, HotelName, Address/City, Address/StateProvince'"
   ]
  },
  {
   "cell_type": "code",
   "execution_count": null,
   "metadata": {},
   "outputs": [],
   "source": [
    "url = endpoint + \"indexes/hotels-py\" + api_version\n",
    "response  = requests.delete(url, headers=headers)"
   ]
  },
  {
   "cell_type": "code",
   "execution_count": null,
   "metadata": {},
   "outputs": [],
   "source": [
    "url = endpoint + \"indexes\" + api_version + \"&$select=name\"\n",
    "\n",
    "response  = requests.get(url, headers=headers)\n",
    "index_list = response.json()\n",
    "pprint(index_list)"
   ]
  }
 ],
 "metadata": {
  "kernelspec": {
   "display_name": "Python 3",
   "language": "python",
   "name": "python3"
  },
  "language_info": {
   "codemirror_mode": {
    "name": "ipython",
    "version": 3
   },
   "file_extension": ".py",
   "mimetype": "text/x-python",
   "name": "python",
   "nbconvert_exporter": "python",
   "pygments_lexer": "ipython3",
   "version": "3.7.3"
  }
 },
 "nbformat": 4,
 "nbformat_minor": 2
}
